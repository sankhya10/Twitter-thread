{
 "cells": [
  {
   "cell_type": "code",
   "execution_count": 33,
   "metadata": {
    "colab": {
     "base_uri": "https://localhost:8080/"
    },
    "id": "qzizVSWy1dzd",
    "outputId": "0bd4a190-072e-4281-e7c2-1c8e05cd0518"
   },
   "outputs": [
    {
     "name": "stdout",
     "output_type": "stream",
     "text": [
      "[nltk_data] Downloading package punkt to /root/nltk_data...\n",
      "[nltk_data]   Package punkt is already up-to-date!\n"
     ]
    }
   ],
   "source": [
    "\n",
    "# Important library that were essential fro the processs\n",
    "from sklearn.feature_extraction.text import TfidfVectorizer\n",
    "from nltk import tokenize\n",
    "import matplotlib.pyplot as plt\n",
    "import html\n",
    "import re\n",
    "import random\n",
    "import nltk\n",
    "nltk.download('punkt')\n",
    "#if there is a problem in importing transformer\n",
    "# please install using pip from the code below\n",
    "import requests\n",
    "from bs4 import BeautifulSoup\n",
    "import os.path\n",
    "from dateutil import parser\n",
    "import pandas as pd\n",
    "import numpy as np"
   ]
  },
  {
   "cell_type": "code",
   "execution_count": 4,
   "metadata": {
    "id": "dkQQ6_Jh1kUA"
   },
   "outputs": [],
   "source": [
    "#I have highlighted the packages necessary for this collab notebook \n",
    "#Please install them one by one for convenience"
   ]
  },
  {
   "cell_type": "code",
   "execution_count": 12,
   "metadata": {
    "id": "IkH0RCn7pHbs"
   },
   "outputs": [],
   "source": [
    "#pip install trafilatura"
   ]
  },
  {
   "cell_type": "code",
   "execution_count": 13,
   "metadata": {
    "id": "T8Vmuqm0o9Pg"
   },
   "outputs": [],
   "source": [
    "#pip install SentencePiece"
   ]
  },
  {
   "cell_type": "code",
   "execution_count": 14,
   "metadata": {
    "id": "ceROlCTopARw"
   },
   "outputs": [],
   "source": [
    "#pip install transformers"
   ]
  },
  {
   "cell_type": "code",
   "execution_count": 34,
   "metadata": {
    "colab": {
     "base_uri": "https://localhost:8080/"
    },
    "id": "B6fF9MRyw3is",
    "outputId": "5af99101-fde8-4f71-f88a-1394d9d66081"
   },
   "outputs": [
    {
     "name": "stdout",
     "output_type": "stream",
     "text": [
      "Enter the url: https://www.nginx.com/blog/now-worlds-1-web-server-nginx-looks-forward-to-even-brighter-future/?utm_medium=email&utm_source=nginxdb&utm_campaign=ww-nx_mad&utm_content=bg&mkt_tok=NjUzLVNNQy03ODMAAAF-ItKyIbnEbPZ46g8i-GcuhvIcWazwBd-R9JPPX4bEN86nCcd-MGGs_n6sdIKJxFPlCMDPfZqKqlwSe6e_543i9JJJO6t1VITuU24-JIsNBDIbqgm7\n"
     ]
    }
   ],
   "source": [
    "url = input(\"Enter the url: \")"
   ]
  },
  {
   "cell_type": "code",
   "execution_count": 35,
   "metadata": {
    "colab": {
     "base_uri": "https://localhost:8080/"
    },
    "id": "DTbU3_Q-11ZI",
    "outputId": "91c4331a-f0fa-4387-e783-72a7924cadfa"
   },
   "outputs": [
    {
     "data": {
      "text/plain": [
       "{'author': 'Tony Mauro',\n",
       " 'categories': ['Blog,News'],\n",
       " 'comments': '',\n",
       " 'date': '2021-06-10',\n",
       " 'description': \"NGINX recently became the most popular web server in the world, according to W3Techs. We're profoundly grateful to the NGINX community, who've brought us to this milestone, and look forward to providing even more tools to help you optimize delivery of your modern and cloud-native apps.\",\n",
       " 'fingerprint': None,\n",
       " 'hostname': 'nginx.com',\n",
       " 'id': None,\n",
       " 'license': None,\n",
       " 'sitename': 'NGINX',\n",
       " 'tags': [],\n",
       " 'text': 'Last month, NGINX passed a major milestone. W3Techs announced that after many years of steady growth in market share, NGINX is now the most popular web server in the world, edging out Apache HTTP Server. Of course we’re thrilled to be recognized for our years of innovation and hard work, but even more than that we’re profoundly grateful to you, the members of the NGINX community, who’ve brought us to this milestone by trusting us to secure and deliver your websites and apps.\\nThough W3Techs measures NGINX usage specifically for web serving, over NGINX’s nearly 20-year history we’ve added many more capabilities – reverse proxying, load balancing, traffic shaping, caching, and security controls, among others – and you’ve embraced them enthusiastically. It’s fair to say NGINX has become a Swiss Army Knife™ for developers and platform ops teams.\\nBut by no means do we consider reaching this milestone a reason to stop and rest. It’s a booster shot, energizing us to come up with even more tools you can use to deliver the outstanding digital experiences your users expect.\\nThe History and Evolution of NGINX\\nThe original motivation for creating NGINX wasn’t nearly so grand. Back in 2001, NGINX’s original creator Igor Sysoev was trying to solve a problem at work – his web servers were having trouble keeping up with ever‑increasing numbers of requests. The challenge was referred to at the time as the C10K problem – handling 10,000 simultaneous client connections to clients.\\nInspired by the design of Unix and other classic distributed systems, Igor developed an event‑driven architecture that is so lightweight, scalable, and powerful it’s still at the heart of NGINX today. Knowing he was onto something with the potential to help other websites, he open sourced NGINX in 2004.\\nAs detailed in this infographic, community contributions and adoption continued apace, leading to the founding of NGINX, Inc. in 2011. Fall 2014 saw the debut of NGINX Plus, built on NGINX Open Source and enhanced with production‑grade features and commercial support for enterprise customers.\\nRevenues from NGINX Plus enabled us to expand our staff over the following years and continue development of both the open source and commercial models. In 2019 F5, the industry’s leading vendor of hardware‑based security appliances and application delivery controllers (ADCs), acquired NGINX to spearhead the company’s expansion into modern and cloud‑native application environments.\\nAs adoption of microservices, APIs, and Kubernetes has accelerated over the past few years, our community and customers have called on us for help in leveraging the new technologies and taming the complexity that can result. We’ve responded with tools like NGINX Unit for dynamic, polyglot application serving, and NGINX Ingress Controller and NGINX Service Mesh for secured management of traffic into and within Kubernetes‑based container environments. Our future lies firmly in this world of container orchestration and management and delivery of cloud‑native applications.\\nA Modular Architecture Has Served Us Well\\nNGINX’s event‑driven, modular, and highly parallelized architecture initially enabled developers and website owners to move more packets, more quickly and with greater flexibility, on the servers they already had.\\nThe NGINX community has consistently recognized the broad possibilities of this design – sometimes ahead of us at NGINX. They quickly realized NGINX can do a lot more than serve web pages. Without any prompting or documentation or guidance, novel use cases emerged. Enthusiastic users developed hundreds of modules to extend NGINX functionality (more than 150 and counting). Some in the community started using NGINX as an API gateway. Others linked NGINX servers together for load balancing of Apache and NGINX web servers. Many saw NGINX Open Source as an ideal Ingress controller for Kubernetes, a use case so promising we built and open sourced our own Ingress Controller.\\nBuilding Roadmap and a Future With Community Help\\nWe took all of this community activity as invaluable guidance about the additional capabilities our users wanted most. It’s no exaggeration to say that the NGINX community has been by far our best source of inspiration for product innovation. We’ve plowed the revenues from our continually growing commercial customer base back into ongoing development of commercial and open source offerings alike.\\nOver the years we have also watched our community evolve. We started out serving startups in the early days of cloud computing. As the community that’s developing and deploying modern and cloud‑native apps has grown, we’ve grown along with it and are now a trusted partner with all of the major cloud vendors and some of the world’s largest enterprises across many industries. The NGINX community today ranges from one‑person startups to the world’s largest technology companies like Adobe.\\nMore Mature, But Still Scrappy\\nWhat we love is that even within those large companies, we often see developers using our open source software in their personal sandboxes while the corporate security and platform ops teams rely on our commercial products – NGINX Plus, NGINX Controller, and NGINX App Protect, among others – to deliver mission‑critical SaaS products and complicated modern web apps with millions of paying customers.\\nNGINX Open Source always has been and remains the core of our product offerings, and we are proud and happy that so many developers trust and rely on it. At the same time, our commercial products with augmented scalability, security, and management features deliver the higher‑end capabilities that enterprises need.\\nEffectively meeting the needs and wants of our open source community while also growing our revenues and building compelling enterprise products is a constant balancing act. I joined NGINX a number of years ago when the company had fewer than 100 people. Today the NGINX Product Group at F5 stands at over 250 people and growing, with hundreds more supporting the product group across business functions in F5. Even as our market share, product line, and user base has grown, one of the things I love is that NGINX remains the same scrappy upstart at heart. We don’t take our success for granted, and we love doing the little things that make the big things possible.\\nWe value our community just as much today as we did a decade ago. It is the source of our strength as a company and our path to future growth. Thanks for making us the #1 server of websites and apps, and stay tuned as we roll out more products and possibilities in the near future.\\nWant to try out our enterprise‑grade solutions for yourself? Free 30-day trials are available for all of them:\\n- NGINX Plus and NGINX App Protect\\n- NGINX Ingress Controller and NGINX App Protect\\n- NGINX Controller\\n- NGINX Instance Manager\\n- F5 DNS Load Balancer Cloud Service and F5 Secondary DNS Cloud Service\\nOr get started with free and open source offerings:',\n",
       " 'title': \"Now the World's #1 Web Server, NGINX Looks Forward to an Even Brighter Future - NGINX\",\n",
       " 'url': 'https://www.nginx.com/blog/now-worlds-1-web-server-nginx-looks-forward-to-even-brighter-future/'}"
      ]
     },
     "execution_count": 35,
     "metadata": {
      "tags": []
     },
     "output_type": "execute_result"
    }
   ],
   "source": [
    "# this library mainly for scraping the data from webserver\n",
    "import trafilatura\n",
    "downloaded = trafilatura.fetch_url(url)\n",
    "trafilatura.extract(downloaded)\n",
    "# outputs main content and comments as plain text ...\n",
    "from trafilatura import bare_extraction\n",
    "bare_extraction(downloaded)"
   ]
  },
  {
   "cell_type": "code",
   "execution_count": 36,
   "metadata": {
    "colab": {
     "base_uri": "https://localhost:8080/",
     "height": 137
    },
    "id": "hF-tcKyjrIXj",
    "outputId": "176f686d-1af4-4ae1-883b-61ac690e671f"
   },
   "outputs": [
    {
     "data": {
      "application/vnd.google.colaboratory.intrinsic+json": {
       "type": "string"
      },
      "text/plain": [
       "'Last month, NGINX passed a major milestone. W3Techs announced that after many years of steady growth in market share, NGINX is now the most popular web server in the world, edging out Apache HTTP Server. Of course we’re thrilled to be recognized for our years of innovation and hard work, but even more than that we’re profoundly grateful to you, the members of the NGINX community, who’ve brought us to this milestone by trusting us to secure and deliver your websites and apps.\\nThough W3Techs measures NGINX usage specifically for web serving, over NGINX’s nearly 20-year history we’ve added many more capabilities – reverse proxying, load balancing, traffic shaping, caching, and security controls, among others – and you’ve embraced them enthusiastically. It’s fair to say NGINX has become a Swiss Army Knife™ for developers and platform ops teams.\\nBut by no means do we consider reaching this milestone a reason to stop and rest. It’s a booster shot, energizing us to come up with even more tools you can use to deliver the outstanding digital experiences your users expect.\\nThe History and Evolution of NGINX\\nThe original motivation for creating NGINX wasn’t nearly so grand. Back in 2001, NGINX’s original creator Igor Sysoev was trying to solve a problem at work – his web servers were having trouble keeping up with ever‑increasing numbers of requests. The challenge was referred to at the time as the C10K problem – handling 10,000 simultaneous client connections to clients.\\nInspired by the design of Unix and other classic distributed systems, Igor developed an event‑driven architecture that is so lightweight, scalable, and powerful it’s still at the heart of NGINX today. Knowing he was onto something with the potential to help other websites, he open sourced NGINX in 2004.\\nAs detailed in this infographic, community contributions and adoption continued apace, leading to the founding of NGINX, Inc. in 2011. Fall 2014 saw the debut of NGINX Plus, built on NGINX Open Source and enhanced with production‑grade features and commercial support for enterprise customers.\\nRevenues from NGINX Plus enabled us to expand our staff over the following years and continue development of both the open source and commercial models. In 2019 F5, the industry’s leading vendor of hardware‑based security appliances and application delivery controllers (ADCs), acquired NGINX to spearhead the company’s expansion into modern and cloud‑native application environments.\\nAs adoption of microservices, APIs, and Kubernetes has accelerated over the past few years, our community and customers have called on us for help in leveraging the new technologies and taming the complexity that can result. We’ve responded with tools like NGINX Unit for dynamic, polyglot application serving, and NGINX Ingress Controller and NGINX Service Mesh for secured management of traffic into and within Kubernetes‑based container environments. Our future lies firmly in this world of container orchestration and management and delivery of cloud‑native applications.\\nA Modular Architecture Has Served Us Well\\nNGINX’s event‑driven, modular, and highly parallelized architecture initially enabled developers and website owners to move more packets, more quickly and with greater flexibility, on the servers they already had.\\nThe NGINX community has consistently recognized the broad possibilities of this design – sometimes ahead of us at NGINX. They quickly realized NGINX can do a lot more than serve web pages. Without any prompting or documentation or guidance, novel use cases emerged. Enthusiastic users developed hundreds of modules to extend NGINX functionality (more than 150 and counting). Some in the community started using NGINX as an API gateway. Others linked NGINX servers together for load balancing of Apache and NGINX web servers. Many saw NGINX Open Source as an ideal Ingress controller for Kubernetes, a use case so promising we built and open sourced our own Ingress Controller.\\nBuilding Roadmap and a Future With Community Help\\nWe took all of this community activity as invaluable guidance about the additional capabilities our users wanted most. It’s no exaggeration to say that the NGINX community has been by far our best source of inspiration for product innovation. We’ve plowed the revenues from our continually growing commercial customer base back into ongoing development of commercial and open source offerings alike.\\nOver the years we have also watched our community evolve. We started out serving startups in the early days of cloud computing. As the community that’s developing and deploying modern and cloud‑native apps has grown, we’ve grown along with it and are now a trusted partner with all of the major cloud vendors and some of the world’s largest enterprises across many industries. The NGINX community today ranges from one‑person startups to the world’s largest technology companies like Adobe.\\nMore Mature, But Still Scrappy\\nWhat we love is that even within those large companies, we often see developers using our open source software in their personal sandboxes while the corporate security and platform ops teams rely on our commercial products – NGINX Plus, NGINX Controller, and NGINX App Protect, among others – to deliver mission‑critical SaaS products and complicated modern web apps with millions of paying customers.\\nNGINX Open Source always has been and remains the core of our product offerings, and we are proud and happy that so many developers trust and rely on it. At the same time, our commercial products with augmented scalability, security, and management features deliver the higher‑end capabilities that enterprises need.\\nEffectively meeting the needs and wants of our open source community while also growing our revenues and building compelling enterprise products is a constant balancing act. I joined NGINX a number of years ago when the company had fewer than 100 people. Today the NGINX Product Group at F5 stands at over 250 people and growing, with hundreds more supporting the product group across business functions in F5. Even as our market share, product line, and user base has grown, one of the things I love is that NGINX remains the same scrappy upstart at heart. We don’t take our success for granted, and we love doing the little things that make the big things possible.\\nWe value our community just as much today as we did a decade ago. It is the source of our strength as a company and our path to future growth. Thanks for making us the #1 server of websites and apps, and stay tuned as we roll out more products and possibilities in the near future.\\nWant to try out our enterprise‑grade solutions for yourself? Free 30-day trials are available for all of them:\\n- NGINX Plus and NGINX App Protect\\n- NGINX Ingress Controller and NGINX App Protect\\n- NGINX Controller\\n- NGINX Instance Manager\\n- F5 DNS Load Balancer Cloud Service and F5 Secondary DNS Cloud Service\\nOr get started with free and open source offerings:'"
      ]
     },
     "execution_count": 36,
     "metadata": {
      "tags": []
     },
     "output_type": "execute_result"
    }
   ],
   "source": [
    "text = bare_extraction(downloaded)['text']\n",
    "text"
   ]
  },
  {
   "cell_type": "code",
   "execution_count": 40,
   "metadata": {
    "id": "S5_lYxItdpdS"
   },
   "outputs": [],
   "source": [
    "from transformers import BartTokenizer, BartModel\n",
    "import torch\n",
    "#for the process of abstractive summmarization I have used Bart-cnn from hugging face as pretrained model\n",
    "from typing import List\n",
    "#bart-cnn uses encoder and decoder for summarization\n",
    "#but it's only effective for tokens less than 1300 around\n",
    "from transformers import BartForConditionalGeneration\n",
    "def old_summarization_pipeline(text: List[str]) -> List[str]:\n",
    "    tokenizer = BartTokenizer.from_pretrained('facebook/bart-large-cnn')\n",
    "    model = BartForConditionalGeneration.from_pretrained('facebook/bart-large-cnn')\n",
    "    input_ids = tokenizer.batch_encode_plus(text, truncation=True, padding=True, return_tensors='pt', max_length=1024)['input_ids']\n",
    "    summary_ids = model.generate(input_ids)\n",
    "    summaries = [tokenizer.decode(s, skip_special_tokens=True, clean_up_tokenization_spaces=False) for s in summary_ids]\n",
    "    return summaries\n",
    "\n"
   ]
  },
  {
   "cell_type": "code",
   "execution_count": 42,
   "metadata": {
    "id": "F5gi7dlzkIlo"
   },
   "outputs": [],
   "source": [
    "# In order to summarize our whole document into twitter threads \n",
    "# I am sending chunks of text into the model to sumaarize it efficiently\n",
    "# Also it will take care of longer texts and will create longer summary as well \n",
    "m = len(text)\n",
    "summary = []\n",
    "# if text is less than this word limit \n",
    "if len(text) < 2350:\n",
    "  summary.append(old_summarization_pipeline(text))\n",
    "else:\n",
    "  #create chunks till the length of document\n",
    "  m = 2350   \n",
    "  chunks = [text[i:i+m] for i in range(0, len(text), m)]\n",
    "  # then append in the list\n",
    "  for i in range(len(chunks)):\n",
    "    # check if last remaining chunk is good enough to summarize\n",
    "    if len(chunks[i]) >= 500:\n",
    "      summary.append(old_summarization_pipeline([chunks[i]]))"
   ]
  },
  {
   "cell_type": "code",
   "execution_count": 43,
   "metadata": {
    "colab": {
     "base_uri": "https://localhost:8080/"
    },
    "id": "ZQZ7Qu7XXd97",
    "outputId": "c446b336-ee8d-41e1-82ad-b37ddf82da2d"
   },
   "outputs": [
    {
     "data": {
      "text/plain": [
       "{1: 'NGINX is now the most popular web server in the world, edging out Apache HTTP Server',\n",
       " 2: ' W3Techs measures NGINX usage specifically for web serving, but over its nearly 20-year history we’ve added many more capabilities',\n",
       " 3: ' It’s fair to say NGinX has become a Swiss Army Knife™ for developers and platform ops teams',\n",
       " 4: 'NGINX’s event‑driven, modular, and highly parallelized architecture initially enabled developers and website owners to move more packets, more quickly and with greater flexibility, on the servers they already had',\n",
       " 5: ' The NGINX community has consistently recognized the broad possibilities of this design – sometimes ahead of us',\n",
       " 6: 'The NGINX community today ranges from one‑person startups to the world’s largest technology companies like Adobe',\n",
       " 7: ' Even within those large companies, we often see developers using our open source software in their personal sandboxes',\n",
       " 8: ' At the same time, our commercial products with augmented scalability, security, and management features deliver the higher‑end capabilities'}"
      ]
     },
     "execution_count": 43,
     "metadata": {
      "tags": []
     },
     "output_type": "execute_result"
    }
   ],
   "source": [
    "#this last bit of code is to just cleaning the summary\n",
    "# and make it into dict file \n",
    "lmo = []\n",
    "finalsummary = []\n",
    "for i in range(len(summary)):\n",
    "  lmo = summary[i][0].split(\".\")\n",
    "  new_list = [elem for elem in lmo if elem.strip()]\n",
    "  finalsummary.append(new_list)\n",
    "\n",
    "twitterthread= {}\n",
    "k = 0\n",
    "for i in range(len(finalsummary)):\n",
    "  for j in range(len(finalsummary[i])):\n",
    "    k = k+1\n",
    "    twitterthread[k] = finalsummary[i][j]\n",
    "\n",
    "twitterthread "
   ]
  },
  {
   "cell_type": "code",
   "execution_count": null,
   "metadata": {
    "id": "scSjMahwzTwu"
   },
   "outputs": [],
   "source": []
  }
 ],
 "metadata": {
  "accelerator": "GPU",
  "colab": {
   "name": "Untitled4.ipynb",
   "provenance": []
  },
  "kernelspec": {
   "display_name": "Python 3",
   "language": "python",
   "name": "python3"
  },
  "language_info": {
   "codemirror_mode": {
    "name": "ipython",
    "version": 3
   },
   "file_extension": ".py",
   "mimetype": "text/x-python",
   "name": "python",
   "nbconvert_exporter": "python",
   "pygments_lexer": "ipython3",
   "version": "3.7.6"
  }
 },
 "nbformat": 4,
 "nbformat_minor": 1
}
